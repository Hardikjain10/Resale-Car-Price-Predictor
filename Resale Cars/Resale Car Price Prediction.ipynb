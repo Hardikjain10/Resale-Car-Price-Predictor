{
 "cells": [
  {
   "cell_type": "code",
   "execution_count": 1,
   "id": "c2825d4d",
   "metadata": {},
   "outputs": [],
   "source": [
    "import pandas as pd\n",
    "import numpy as np\n",
    "import matplotlib.pyplot as plt\n",
    "import seaborn as sb\n",
    "import os\n",
    "import missingno\n",
    "from warnings import filterwarnings\n",
    "filterwarnings('ignore')\n",
    "from scipy.stats import norm, skew\n",
    "import pickle as pkl"
   ]
  },
  {
   "cell_type": "code",
   "execution_count": 2,
   "id": "75d4f0b5",
   "metadata": {},
   "outputs": [],
   "source": [
    "data=pd.DataFrame()\n",
    "file=[x for x in os.listdir(\"./Data\")]\n",
    "for i in file:\n",
    "    if len(data)==0:\n",
    "        data=pd.read_csv(\"./Data/\" +i)\n",
    "    else:\n",
    "        data=pd.concat([data,pd.read_csv(\"./Data/\" +i)],0)"
   ]
  },
  {
   "cell_type": "code",
   "execution_count": 3,
   "id": "579731b6",
   "metadata": {},
   "outputs": [
    {
     "data": {
      "text/plain": [
       "(6810, 6)"
      ]
     },
     "execution_count": 3,
     "metadata": {},
     "output_type": "execute_result"
    }
   ],
   "source": [
    "data.shape"
   ]
  },
  {
   "cell_type": "code",
   "execution_count": 4,
   "id": "0723a3eb",
   "metadata": {},
   "outputs": [
    {
     "data": {
      "text/html": [
       "<div>\n",
       "<style scoped>\n",
       "    .dataframe tbody tr th:only-of-type {\n",
       "        vertical-align: middle;\n",
       "    }\n",
       "\n",
       "    .dataframe tbody tr th {\n",
       "        vertical-align: top;\n",
       "    }\n",
       "\n",
       "    .dataframe thead th {\n",
       "        text-align: right;\n",
       "    }\n",
       "</style>\n",
       "<table border=\"1\" class=\"dataframe\">\n",
       "  <thead>\n",
       "    <tr style=\"text-align: right;\">\n",
       "      <th></th>\n",
       "      <th>model</th>\n",
       "      <th>year</th>\n",
       "      <th>mileage</th>\n",
       "      <th>image</th>\n",
       "      <th>color</th>\n",
       "      <th>cost</th>\n",
       "    </tr>\n",
       "  </thead>\n",
       "  <tbody>\n",
       "    <tr>\n",
       "      <th>0</th>\n",
       "      <td>2019 Audi A5 Sportback</td>\n",
       "      <td>2019</td>\n",
       "      <td>36,070 miles</td>\n",
       "      <td>https://cdcssl.ibsrv.net/ibimg/www.carsdirect....</td>\n",
       "      <td>Ibis White</td>\n",
       "      <td>$29,900</td>\n",
       "    </tr>\n",
       "    <tr>\n",
       "      <th>1</th>\n",
       "      <td>2019 Audi A5 Sportback</td>\n",
       "      <td>2019</td>\n",
       "      <td>21,221 miles</td>\n",
       "      <td>https://cdcssl.ibsrv.net/ibimg/www.carsdirect....</td>\n",
       "      <td>Black</td>\n",
       "      <td>$33,900</td>\n",
       "    </tr>\n",
       "    <tr>\n",
       "      <th>2</th>\n",
       "      <td>2019 Audi RS 3</td>\n",
       "      <td>2019</td>\n",
       "      <td>105 miles</td>\n",
       "      <td>https://cdcssl.ibsrv.net/ibimg/www.carsdirect....</td>\n",
       "      <td>Black</td>\n",
       "      <td>$54,900</td>\n",
       "    </tr>\n",
       "    <tr>\n",
       "      <th>3</th>\n",
       "      <td>2018 Audi Q3</td>\n",
       "      <td>2018</td>\n",
       "      <td>49,580 miles</td>\n",
       "      <td>https://cdcssl.ibsrv.net/ibimg/www.carsdirect....</td>\n",
       "      <td>Brilliant Black</td>\n",
       "      <td>$23,900</td>\n",
       "    </tr>\n",
       "    <tr>\n",
       "      <th>4</th>\n",
       "      <td>2018 Audi Q5</td>\n",
       "      <td>2018</td>\n",
       "      <td>48,075 miles</td>\n",
       "      <td>https://cdcssl.ibsrv.net/ibimg/www.carsdirect....</td>\n",
       "      <td>Blue</td>\n",
       "      <td>$32,700</td>\n",
       "    </tr>\n",
       "  </tbody>\n",
       "</table>\n",
       "</div>"
      ],
      "text/plain": [
       "                    model  year       mileage  \\\n",
       "0  2019 Audi A5 Sportback  2019  36,070 miles   \n",
       "1  2019 Audi A5 Sportback  2019  21,221 miles   \n",
       "2          2019 Audi RS 3  2019     105 miles   \n",
       "3            2018 Audi Q3  2018  49,580 miles   \n",
       "4            2018 Audi Q5  2018  48,075 miles   \n",
       "\n",
       "                                               image            color     cost  \n",
       "0  https://cdcssl.ibsrv.net/ibimg/www.carsdirect....       Ibis White  $29,900  \n",
       "1  https://cdcssl.ibsrv.net/ibimg/www.carsdirect....            Black  $33,900  \n",
       "2  https://cdcssl.ibsrv.net/ibimg/www.carsdirect....            Black  $54,900  \n",
       "3  https://cdcssl.ibsrv.net/ibimg/www.carsdirect....  Brilliant Black  $23,900  \n",
       "4  https://cdcssl.ibsrv.net/ibimg/www.carsdirect....             Blue  $32,700  "
      ]
     },
     "execution_count": 4,
     "metadata": {},
     "output_type": "execute_result"
    }
   ],
   "source": [
    "data.head()"
   ]
  },
  {
   "cell_type": "code",
   "execution_count": 5,
   "id": "629b3811",
   "metadata": {},
   "outputs": [
    {
     "data": {
      "text/plain": [
       "model        0\n",
       "year         0\n",
       "mileage     73\n",
       "image        0\n",
       "color      549\n",
       "cost       221\n",
       "dtype: int64"
      ]
     },
     "execution_count": 5,
     "metadata": {},
     "output_type": "execute_result"
    }
   ],
   "source": [
    "data.isnull().sum()"
   ]
  },
  {
   "cell_type": "code",
   "execution_count": 6,
   "id": "abb51596",
   "metadata": {},
   "outputs": [],
   "source": [
    "df=data.copy()"
   ]
  },
  {
   "cell_type": "code",
   "execution_count": 7,
   "id": "0df4e2cd",
   "metadata": {},
   "outputs": [],
   "source": [
    "df=df[pd.notnull(df['cost'])]"
   ]
  },
  {
   "cell_type": "code",
   "execution_count": 8,
   "id": "1af4788f",
   "metadata": {},
   "outputs": [
    {
     "data": {
      "text/plain": [
       "(6589, 6)"
      ]
     },
     "execution_count": 8,
     "metadata": {},
     "output_type": "execute_result"
    }
   ],
   "source": [
    "df.shape"
   ]
  },
  {
   "cell_type": "code",
   "execution_count": 9,
   "id": "c2f45f68",
   "metadata": {},
   "outputs": [],
   "source": [
    "df['cost']=df['cost'].apply(lambda x:(x.replace('$','')).replace(',',''))"
   ]
  },
  {
   "cell_type": "code",
   "execution_count": 10,
   "id": "887a24d1",
   "metadata": {},
   "outputs": [],
   "source": [
    "df.cost=df.cost.astype('float')"
   ]
  },
  {
   "cell_type": "code",
   "execution_count": 11,
   "id": "374b984c",
   "metadata": {},
   "outputs": [
    {
     "data": {
      "image/png": "[encoded data removed]",
      "text/plain": [
       "<Figure size 432x288 with 1 Axes>"
      ]
     },
     "metadata": {
      "needs_background": "light"
     },
     "output_type": "display_data"
    }
   ],
   "source": [
    "sb.distplot(df.cost,fit=norm);"
   ]
  },
  {
   "cell_type": "code",
   "execution_count": 12,
   "id": "fcaf2611",
   "metadata": {},
   "outputs": [
    {
     "data": {
      "text/plain": [
       "1.001370553611522"
      ]
     },
     "execution_count": 12,
     "metadata": {},
     "output_type": "execute_result"
    }
   ],
   "source": [
    "skew(df.cost)"
   ]
  },
  {
   "cell_type": "code",
   "execution_count": 13,
   "id": "840aa9d4",
   "metadata": {},
   "outputs": [
    {
     "data": {
      "text/plain": [
       "-0.08622790968556064"
      ]
     },
     "execution_count": 13,
     "metadata": {},
     "output_type": "execute_result"
    }
   ],
   "source": [
    "skew(np.log(df['cost']))"
   ]
  },
  {
   "cell_type": "code",
   "execution_count": 14,
   "id": "48c9d7f1",
   "metadata": {},
   "outputs": [
    {
     "data": {
      "image/png": "[encoded data removed]",
      "text/plain": [
       "<Figure size 432x288 with 1 Axes>"
      ]
     },
     "metadata": {
      "needs_background": "light"
     },
     "output_type": "display_data"
    }
   ],
   "source": [
    "sb.distplot(np.log(df.cost),fit=norm);"
   ]
  },
  {
   "cell_type": "code",
   "execution_count": 15,
   "id": "77f1d6c6",
   "metadata": {},
   "outputs": [],
   "source": [
    "df['log_cost'] = np.log(df['cost'])\n",
    "df.drop('cost',axis=1,inplace=True)"
   ]
  },
  {
   "cell_type": "code",
   "execution_count": 16,
   "id": "f59ca25c",
   "metadata": {},
   "outputs": [
    {
     "data": {
      "text/html": [
       "<div>\n",
       "<style scoped>\n",
       "    .dataframe tbody tr th:only-of-type {\n",
       "        vertical-align: middle;\n",
       "    }\n",
       "\n",
       "    .dataframe tbody tr th {\n",
       "        vertical-align: top;\n",
       "    }\n",
       "\n",
       "    .dataframe thead th {\n",
       "        text-align: right;\n",
       "    }\n",
       "</style>\n",
       "<table border=\"1\" class=\"dataframe\">\n",
       "  <thead>\n",
       "    <tr style=\"text-align: right;\">\n",
       "      <th></th>\n",
       "      <th>model</th>\n",
       "      <th>year</th>\n",
       "      <th>mileage</th>\n",
       "      <th>image</th>\n",
       "      <th>color</th>\n",
       "      <th>log_cost</th>\n",
       "    </tr>\n",
       "  </thead>\n",
       "  <tbody>\n",
       "    <tr>\n",
       "      <th>0</th>\n",
       "      <td>2019 Audi A5 Sportback</td>\n",
       "      <td>2019</td>\n",
       "      <td>36,070 miles</td>\n",
       "      <td>https://cdcssl.ibsrv.net/ibimg/www.carsdirect....</td>\n",
       "      <td>Ibis White</td>\n",
       "      <td>10.305614</td>\n",
       "    </tr>\n",
       "    <tr>\n",
       "      <th>1</th>\n",
       "      <td>2019 Audi A5 Sportback</td>\n",
       "      <td>2019</td>\n",
       "      <td>21,221 miles</td>\n",
       "      <td>https://cdcssl.ibsrv.net/ibimg/www.carsdirect....</td>\n",
       "      <td>Black</td>\n",
       "      <td>10.431170</td>\n",
       "    </tr>\n",
       "    <tr>\n",
       "      <th>2</th>\n",
       "      <td>2019 Audi RS 3</td>\n",
       "      <td>2019</td>\n",
       "      <td>105 miles</td>\n",
       "      <td>https://cdcssl.ibsrv.net/ibimg/www.carsdirect....</td>\n",
       "      <td>Black</td>\n",
       "      <td>10.913269</td>\n",
       "    </tr>\n",
       "    <tr>\n",
       "      <th>3</th>\n",
       "      <td>2018 Audi Q3</td>\n",
       "      <td>2018</td>\n",
       "      <td>49,580 miles</td>\n",
       "      <td>https://cdcssl.ibsrv.net/ibimg/www.carsdirect....</td>\n",
       "      <td>Brilliant Black</td>\n",
       "      <td>10.081634</td>\n",
       "    </tr>\n",
       "    <tr>\n",
       "      <th>4</th>\n",
       "      <td>2018 Audi Q5</td>\n",
       "      <td>2018</td>\n",
       "      <td>48,075 miles</td>\n",
       "      <td>https://cdcssl.ibsrv.net/ibimg/www.carsdirect....</td>\n",
       "      <td>Blue</td>\n",
       "      <td>10.395130</td>\n",
       "    </tr>\n",
       "  </tbody>\n",
       "</table>\n",
       "</div>"
      ],
      "text/plain": [
       "                    model  year       mileage  \\\n",
       "0  2019 Audi A5 Sportback  2019  36,070 miles   \n",
       "1  2019 Audi A5 Sportback  2019  21,221 miles   \n",
       "2          2019 Audi RS 3  2019     105 miles   \n",
       "3            2018 Audi Q3  2018  49,580 miles   \n",
       "4            2018 Audi Q5  2018  48,075 miles   \n",
       "\n",
       "                                               image            color  \\\n",
       "0  https://cdcssl.ibsrv.net/ibimg/www.carsdirect....       Ibis White   \n",
       "1  https://cdcssl.ibsrv.net/ibimg/www.carsdirect....            Black   \n",
       "2  https://cdcssl.ibsrv.net/ibimg/www.carsdirect....            Black   \n",
       "3  https://cdcssl.ibsrv.net/ibimg/www.carsdirect....  Brilliant Black   \n",
       "4  https://cdcssl.ibsrv.net/ibimg/www.carsdirect....             Blue   \n",
       "\n",
       "    log_cost  \n",
       "0  10.305614  \n",
       "1  10.431170  \n",
       "2  10.913269  \n",
       "3  10.081634  \n",
       "4  10.395130  "
      ]
     },
     "execution_count": 16,
     "metadata": {},
     "output_type": "execute_result"
    }
   ],
   "source": [
    "df.head()"
   ]
  },
  {
   "cell_type": "code",
   "execution_count": 17,
   "id": "dbf34012",
   "metadata": {},
   "outputs": [
    {
     "data": {
      "text/plain": [
       "array(['2019 Audi A5 Sportback', '2019 Audi RS 3', '2018 Audi Q3',\n",
       "       '2018 Audi Q5', '2018 Audi A8 L', '2018 Audi SQ5',\n",
       "       '2018 Audi S5 Sportback', '2017 Audi A6', '2017 Audi Q7',\n",
       "       '2015 Audi Q5'], dtype=object)"
      ]
     },
     "execution_count": 17,
     "metadata": {},
     "output_type": "execute_result"
    }
   ],
   "source": [
    "df['model'].unique()[:10]"
   ]
  },
  {
   "cell_type": "code",
   "execution_count": 18,
   "id": "68bf5fdc",
   "metadata": {},
   "outputs": [],
   "source": [
    "model_per_company = {} # Keys are comapnies and values are the models prodced by company"
   ]
  },
  {
   "cell_type": "code",
   "execution_count": 19,
   "id": "3d9234d2",
   "metadata": {},
   "outputs": [],
   "source": [
    "for i in df.model.tolist():\n",
    "    \n",
    "    model_name_=''\n",
    "    for part in i.split(' ')[2:]:\n",
    "        model_name_+=part+' '\n",
    "    model_name_=model_name_.rstrip()\n",
    "    \n",
    "    if i.split(' ')[1] not in model_per_company.keys():\n",
    "        model_per_company[i.split(' ')[1]]=[]\n",
    "    if model_name_ not in model_per_company[i.split(' ')[1]]:\n",
    "        model_per_company[i.split(' ')[1]].append(model_name_)"
   ]
  },
  {
   "cell_type": "code",
   "execution_count": 20,
   "id": "67dde35e",
   "metadata": {},
   "outputs": [],
   "source": [
    "with open('./PklFiles/model_transform.pkl','wb') as f:\n",
    "    pkl.dump(model_per_company,f)"
   ]
  },
  {
   "cell_type": "code",
   "execution_count": 21,
   "id": "fbdac929",
   "metadata": {},
   "outputs": [],
   "source": [
    "def model_transform(x):\n",
    "    final=''\n",
    "    for i in x.split(' ')[2:]:\n",
    "        final+=i\n",
    "    return final        "
   ]
  },
  {
   "cell_type": "code",
   "execution_count": 22,
   "id": "584408ba",
   "metadata": {},
   "outputs": [],
   "source": [
    "df['company']=df['model'].apply(lambda x:x.split(' ')[1])\n",
    "df['model']=df['model'].apply(lambda x:model_transform(x))"
   ]
  },
  {
   "cell_type": "code",
   "execution_count": 23,
   "id": "2540dad7",
   "metadata": {},
   "outputs": [
    {
     "data": {
      "text/html": [
       "<div>\n",
       "<style scoped>\n",
       "    .dataframe tbody tr th:only-of-type {\n",
       "        vertical-align: middle;\n",
       "    }\n",
       "\n",
       "    .dataframe tbody tr th {\n",
       "        vertical-align: top;\n",
       "    }\n",
       "\n",
       "    .dataframe thead th {\n",
       "        text-align: right;\n",
       "    }\n",
       "</style>\n",
       "<table border=\"1\" class=\"dataframe\">\n",
       "  <thead>\n",
       "    <tr style=\"text-align: right;\">\n",
       "      <th></th>\n",
       "      <th>model</th>\n",
       "      <th>year</th>\n",
       "      <th>mileage</th>\n",
       "      <th>image</th>\n",
       "      <th>color</th>\n",
       "      <th>log_cost</th>\n",
       "      <th>company</th>\n",
       "    </tr>\n",
       "  </thead>\n",
       "  <tbody>\n",
       "    <tr>\n",
       "      <th>0</th>\n",
       "      <td>A5Sportback</td>\n",
       "      <td>2019</td>\n",
       "      <td>36,070 miles</td>\n",
       "      <td>https://cdcssl.ibsrv.net/ibimg/www.carsdirect....</td>\n",
       "      <td>Ibis White</td>\n",
       "      <td>10.305614</td>\n",
       "      <td>Audi</td>\n",
       "    </tr>\n",
       "    <tr>\n",
       "      <th>1</th>\n",
       "      <td>A5Sportback</td>\n",
       "      <td>2019</td>\n",
       "      <td>21,221 miles</td>\n",
       "      <td>https://cdcssl.ibsrv.net/ibimg/www.carsdirect....</td>\n",
       "      <td>Black</td>\n",
       "      <td>10.431170</td>\n",
       "      <td>Audi</td>\n",
       "    </tr>\n",
       "    <tr>\n",
       "      <th>2</th>\n",
       "      <td>RS3</td>\n",
       "      <td>2019</td>\n",
       "      <td>105 miles</td>\n",
       "      <td>https://cdcssl.ibsrv.net/ibimg/www.carsdirect....</td>\n",
       "      <td>Black</td>\n",
       "      <td>10.913269</td>\n",
       "      <td>Audi</td>\n",
       "    </tr>\n",
       "    <tr>\n",
       "      <th>3</th>\n",
       "      <td>Q3</td>\n",
       "      <td>2018</td>\n",
       "      <td>49,580 miles</td>\n",
       "      <td>https://cdcssl.ibsrv.net/ibimg/www.carsdirect....</td>\n",
       "      <td>Brilliant Black</td>\n",
       "      <td>10.081634</td>\n",
       "      <td>Audi</td>\n",
       "    </tr>\n",
       "    <tr>\n",
       "      <th>4</th>\n",
       "      <td>Q5</td>\n",
       "      <td>2018</td>\n",
       "      <td>48,075 miles</td>\n",
       "      <td>https://cdcssl.ibsrv.net/ibimg/www.carsdirect....</td>\n",
       "      <td>Blue</td>\n",
       "      <td>10.395130</td>\n",
       "      <td>Audi</td>\n",
       "    </tr>\n",
       "  </tbody>\n",
       "</table>\n",
       "</div>"
      ],
      "text/plain": [
       "         model  year       mileage  \\\n",
       "0  A5Sportback  2019  36,070 miles   \n",
       "1  A5Sportback  2019  21,221 miles   \n",
       "2          RS3  2019     105 miles   \n",
       "3           Q3  2018  49,580 miles   \n",
       "4           Q5  2018  48,075 miles   \n",
       "\n",
       "                                               image            color  \\\n",
       "0  https://cdcssl.ibsrv.net/ibimg/www.carsdirect....       Ibis White   \n",
       "1  https://cdcssl.ibsrv.net/ibimg/www.carsdirect....            Black   \n",
       "2  https://cdcssl.ibsrv.net/ibimg/www.carsdirect....            Black   \n",
       "3  https://cdcssl.ibsrv.net/ibimg/www.carsdirect....  Brilliant Black   \n",
       "4  https://cdcssl.ibsrv.net/ibimg/www.carsdirect....             Blue   \n",
       "\n",
       "    log_cost company  \n",
       "0  10.305614    Audi  \n",
       "1  10.431170    Audi  \n",
       "2  10.913269    Audi  \n",
       "3  10.081634    Audi  \n",
       "4  10.395130    Audi  "
      ]
     },
     "execution_count": 23,
     "metadata": {},
     "output_type": "execute_result"
    }
   ],
   "source": [
    "df.head()"
   ]
  },
  {
   "cell_type": "code",
   "execution_count": 24,
   "id": "6665fc74",
   "metadata": {},
   "outputs": [
    {
     "data": {
      "text/plain": [
       "203"
      ]
     },
     "execution_count": 24,
     "metadata": {},
     "output_type": "execute_result"
    }
   ],
   "source": [
    "df.model.nunique()"
   ]
  },
  {
   "cell_type": "code",
   "execution_count": 25,
   "id": "64263b69",
   "metadata": {},
   "outputs": [
    {
     "data": {
      "text/plain": [
       "771"
      ]
     },
     "execution_count": 25,
     "metadata": {},
     "output_type": "execute_result"
    }
   ],
   "source": [
    "data.model.nunique()"
   ]
  },
  {
   "cell_type": "code",
   "execution_count": 26,
   "id": "a2743313",
   "metadata": {},
   "outputs": [
    {
     "data": {
      "text/plain": [
       "<AxesSubplot:>"
      ]
     },
     "execution_count": 26,
     "metadata": {},
     "output_type": "execute_result"
    },
    {
     "data": {
      "image/png": "[encoded data removed]",
      "text/plain": [
       "<Figure size 864x576 with 1 Axes>"
      ]
     },
     "metadata": {
      "needs_background": "light"
     },
     "output_type": "display_data"
    }
   ],
   "source": [
    "plt.figure(figsize=(12,8))\n",
    "df.company.value_counts().sort_values(ascending=False).plot(kind='bar')"
   ]
  },
  {
   "cell_type": "code",
   "execution_count": 27,
   "id": "165d9ac8",
   "metadata": {},
   "outputs": [],
   "source": [
    "df['mileage'].fillna('-99,999 miles',inplace=True)"
   ]
  },
  {
   "cell_type": "code",
   "execution_count": 28,
   "id": "9e0ff471",
   "metadata": {},
   "outputs": [],
   "source": [
    "df['mileage']=df['mileage'].apply(lambda x:x.split(' ')[0].replace(',',''))"
   ]
  },
  {
   "cell_type": "code",
   "execution_count": 29,
   "id": "f7b8d8a7",
   "metadata": {},
   "outputs": [],
   "source": [
    "df.mileage=df.mileage.astype('float')"
   ]
  },
  {
   "cell_type": "code",
   "execution_count": 30,
   "id": "86652d1b",
   "metadata": {},
   "outputs": [
    {
     "name": "stdout",
     "output_type": "stream",
     "text": [
      "<class 'pandas.core.frame.DataFrame'>\n",
      "Int64Index: 6589 entries, 0 to 179\n",
      "Data columns (total 7 columns):\n",
      " #   Column    Non-Null Count  Dtype  \n",
      "---  ------    --------------  -----  \n",
      " 0   model     6589 non-null   object \n",
      " 1   year      6589 non-null   int64  \n",
      " 2   mileage   6589 non-null   float64\n",
      " 3   image     6589 non-null   object \n",
      " 4   color     6118 non-null   object \n",
      " 5   log_cost  6589 non-null   float64\n",
      " 6   company   6589 non-null   object \n",
      "dtypes: float64(2), int64(1), object(4)\n",
      "memory usage: 411.8+ KB\n"
     ]
    }
   ],
   "source": [
    "df.info()"
   ]
  },
  {
   "cell_type": "code",
   "execution_count": 31,
   "id": "e8e13bea",
   "metadata": {},
   "outputs": [],
   "source": [
    "df['mileage'] = df['mileage'].replace(-99999, np.nan)                             "
   ]
  },
  {
   "cell_type": "code",
   "execution_count": 32,
   "id": "fc2a1674",
   "metadata": {},
   "outputs": [
    {
     "data": {
      "text/plain": [
       "year\n",
       "1994    150000.000000\n",
       "1997    123915.000000\n",
       "1998              NaN\n",
       "2000     92822.000000\n",
       "2001    164694.000000\n",
       "2002     98359.333333\n",
       "2003    139603.000000\n",
       "2004    159782.333333\n",
       "2005    129107.285714\n",
       "2006    133225.545455\n",
       "2007    107690.800000\n",
       "2008    137695.142857\n",
       "2009    107229.812500\n",
       "2010    105994.250000\n",
       "2011    104669.000000\n",
       "2012     86946.333333\n",
       "2013     78334.193878\n",
       "2014     70242.533333\n",
       "2015     66559.919540\n",
       "2016     47995.974937\n",
       "2017     33153.040447\n",
       "2018     31142.990646\n",
       "2019     23950.744021\n",
       "2020     16064.624155\n",
       "2021       439.000000\n",
       "Name: mileage, dtype: float64"
      ]
     },
     "execution_count": 32,
     "metadata": {},
     "output_type": "execute_result"
    }
   ],
   "source": [
    "df.groupby('year')['mileage'].mean()"
   ]
  },
  {
   "cell_type": "code",
   "execution_count": 33,
   "id": "cc10db58",
   "metadata": {},
   "outputs": [
    {
     "data": {
      "text/html": [
       "<div>\n",
       "<style scoped>\n",
       "    .dataframe tbody tr th:only-of-type {\n",
       "        vertical-align: middle;\n",
       "    }\n",
       "\n",
       "    .dataframe tbody tr th {\n",
       "        vertical-align: top;\n",
       "    }\n",
       "\n",
       "    .dataframe thead th {\n",
       "        text-align: right;\n",
       "    }\n",
       "</style>\n",
       "<table border=\"1\" class=\"dataframe\">\n",
       "  <thead>\n",
       "    <tr style=\"text-align: right;\">\n",
       "      <th></th>\n",
       "      <th>model</th>\n",
       "      <th>year</th>\n",
       "      <th>mileage</th>\n",
       "      <th>image</th>\n",
       "      <th>color</th>\n",
       "      <th>log_cost</th>\n",
       "      <th>company</th>\n",
       "    </tr>\n",
       "  </thead>\n",
       "  <tbody>\n",
       "    <tr>\n",
       "      <th>46</th>\n",
       "      <td>Durango</td>\n",
       "      <td>1998</td>\n",
       "      <td>NaN</td>\n",
       "      <td>https://cdcssl.ibsrv.net/ibimg/www.carsdirect....</td>\n",
       "      <td>Gray</td>\n",
       "      <td>11.127086</td>\n",
       "      <td>Dodge</td>\n",
       "    </tr>\n",
       "  </tbody>\n",
       "</table>\n",
       "</div>"
      ],
      "text/plain": [
       "      model  year  mileage                                              image  \\\n",
       "46  Durango  1998      NaN  https://cdcssl.ibsrv.net/ibimg/www.carsdirect....   \n",
       "\n",
       "   color   log_cost company  \n",
       "46  Gray  11.127086   Dodge  "
      ]
     },
     "execution_count": 33,
     "metadata": {},
     "output_type": "execute_result"
    }
   ],
   "source": [
    "df[df['year']==1998]"
   ]
  },
  {
   "cell_type": "code",
   "execution_count": 34,
   "id": "cdee7334",
   "metadata": {},
   "outputs": [],
   "source": [
    "df=df[df['year']!=1998]"
   ]
  },
  {
   "cell_type": "code",
   "execution_count": 35,
   "id": "2c8c87b7",
   "metadata": {},
   "outputs": [],
   "source": [
    "df['mileage']=df.groupby('year')['mileage'].transform(lambda x: x.fillna(x.mean()))"
   ]
  },
  {
   "cell_type": "code",
   "execution_count": 36,
   "id": "fc3b8e1f",
   "metadata": {},
   "outputs": [
    {
     "data": {
      "text/plain": [
       "model         0\n",
       "year          0\n",
       "mileage       0\n",
       "image         0\n",
       "color       471\n",
       "log_cost      0\n",
       "company       0\n",
       "dtype: int64"
      ]
     },
     "execution_count": 36,
     "metadata": {},
     "output_type": "execute_result"
    }
   ],
   "source": [
    "df.isnull().sum()"
   ]
  },
  {
   "cell_type": "code",
   "execution_count": 37,
   "id": "f149d2c9",
   "metadata": {},
   "outputs": [],
   "source": [
    "df.color=df.color.fillna('Not Given')"
   ]
  },
  {
   "cell_type": "code",
   "execution_count": 38,
   "id": "4c1b9024",
   "metadata": {},
   "outputs": [
    {
     "data": {
      "text/plain": [
       "model       0\n",
       "year        0\n",
       "mileage     0\n",
       "image       0\n",
       "color       0\n",
       "log_cost    0\n",
       "company     0\n",
       "dtype: int64"
      ]
     },
     "execution_count": 38,
     "metadata": {},
     "output_type": "execute_result"
    }
   ],
   "source": [
    "df.isnull().sum()"
   ]
  },
  {
   "cell_type": "code",
   "execution_count": 39,
   "id": "d9eb43a9",
   "metadata": {},
   "outputs": [
    {
     "data": {
      "image/png": "[encoded data removed]",
      "text/plain": [
       "<Figure size 432x288 with 1 Axes>"
      ]
     },
     "metadata": {
      "needs_background": "light"
     },
     "output_type": "display_data"
    }
   ],
   "source": [
    "sb.distplot(df['mileage'], fit= norm);"
   ]
  },
  {
   "cell_type": "code",
   "execution_count": 40,
   "id": "8bc78453",
   "metadata": {},
   "outputs": [
    {
     "data": {
      "text/plain": [
       "2.1169389349674566"
      ]
     },
     "execution_count": 40,
     "metadata": {},
     "output_type": "execute_result"
    }
   ],
   "source": [
    "skew(df.mileage)"
   ]
  },
  {
   "cell_type": "code",
   "execution_count": 41,
   "id": "5f7712d6",
   "metadata": {},
   "outputs": [
    {
     "data": {
      "text/plain": [
       "-0.18769947901754705"
      ]
     },
     "execution_count": 41,
     "metadata": {},
     "output_type": "execute_result"
    }
   ],
   "source": [
    "skew(df['mileage']**(1/3))"
   ]
  },
  {
   "cell_type": "code",
   "execution_count": 42,
   "id": "57b16301",
   "metadata": {},
   "outputs": [
    {
     "data": {
      "image/png": "[encoded data removed]",
      "text/plain": [
       "<Figure size 432x288 with 1 Axes>"
      ]
     },
     "metadata": {
      "needs_background": "light"
     },
     "output_type": "display_data"
    }
   ],
   "source": [
    "df['mileage'] = df['mileage']**(1/3)\n",
    "sb.distplot(df['mileage'], fit= norm);"
   ]
  },
  {
   "cell_type": "code",
   "execution_count": 43,
   "id": "cd6aeb20",
   "metadata": {},
   "outputs": [
    {
     "data": {
      "text/plain": [
       "216"
      ]
     },
     "execution_count": 43,
     "metadata": {},
     "output_type": "execute_result"
    }
   ],
   "source": [
    "df.color.nunique()"
   ]
  },
  {
   "cell_type": "code",
   "execution_count": 44,
   "id": "06521da5",
   "metadata": {},
   "outputs": [
    {
     "data": {
      "text/plain": [
       "array(['Ibis White', 'Black', 'Brilliant Black', 'Blue', 'Gray',\n",
       "       'Not Given', 'Navarra Blue Metallic', 'White',\n",
       "       'Moonlight Blue Metallic', 'Dark Gray', 'Graphite Gray Metallic',\n",
       "       'Ink Blue Metallic', 'Monsoon Gray Metallic',\n",
       "       'Glacier White Metallic', 'Silver', 'Red', 'Mosaic Black Metallic',\n",
       "       'Nightfall Gray Metallic', 'Iridescent Pearl Tricoat',\n",
       "       'Shadow Gray Metallic', 'Summit White', 'Black Currant Metallic',\n",
       "       'Red Hot', 'Pepperdust Metallic', 'Bright Yellow',\n",
       "       'Blue Velvet Metallic', 'Arctic Blue Metallic',\n",
       "       'Siren Red Tintcoat', 'Silver Ice Metallic',\n",
       "       'Slipstream Blue Metallic', 'Blue Ray Metallic',\n",
       "       'Tungsten Metallic', 'Silver Topaz Metallic',\n",
       "       'Black Granite Metallic', 'Br', 'Light Pewter Metallic',\n",
       "       'Ivory White', 'Medium Blue-Green (Met)', 'Beige',\n",
       "       'Bright White Clearcoat', 'Maximum Steel Metallic Clearcoat',\n",
       "       'Velvet Red Pearlcoat', 'Granite Crystal Metallic Clearcoat',\n",
       "       'Jazz Blue Pearlcoat', 'Gloss Black',\n",
       "       'Brilliant Black Crystal Pearlcoat', 'Ceramic Grey Clearcoat',\n",
       "       'Ivory Tri-Coat Pearl', 'Bright Silver Metallic', 'Burgundy',\n",
       "       'Pitch Black Clearcoat', 'White Knuckle Clearcoat',\n",
       "       'Black Onyx Crystal Pearlcoat', 'Billet Clearcoat',\n",
       "       'Torred Clearcoat', 'Octane Red Pearlcoat', 'Vice White',\n",
       "       'Blu By You Pearlcoat', 'Black Crystal Clearcoat',\n",
       "       'In-Violet Clearcoat', 'Granite Pearlcoat',\n",
       "       'Contusion Blue Pearlcoat', 'Granite Metallic Clearcoat',\n",
       "       'DB Black Crystal Clearcoat', 'Yellow Jacket Clearcoat',\n",
       "       'Redline Red Tricoat Pearl', 'True Blue Pearlcoat',\n",
       "       'Redline (3) Coat Pearl', 'White Gold',\n",
       "       'Steel Blue Metallic Clearcoat', 'Yellow', 'Orange', 'Green',\n",
       "       'Purple', 'Ingot Silver Metallic', '10045',\n",
       "       'Ruby Red Metallic Tinted Clearcoat', 'Velocity Blue Metallic',\n",
       "       'Oxford White', 'White Platinum Metallic Tri-Coat', 'MID BLUE',\n",
       "       'Shadow Black', 'BLACK', 'DARK RED', 'White Gold Metallic',\n",
       "       'Magnetic Metallic', 'Deep Impact Blue',\n",
       "       'Bronze Fire Metallic Tinted Clearcoat', 'Sterling Gray Metallic',\n",
       "       'Tuxedo Black Metallic', 'White Suede', 'Redfire Metallic',\n",
       "       'Infra Red Clearcoat', 'Gold', 'Brown', 'Crystal Black Pearl',\n",
       "       'Platinum White Pearl', 'Modern Steel Metallic',\n",
       "       'Lunar Silver Metallic', 'Misty Green Pearl',\n",
       "       'Burgundy Night Pearl', 'White Orchid Pearl', 'Taffeta White',\n",
       "       'Champagne Frost Pearl', 'Deep Ocean Pearl', 'Obsidian Blue Pearl',\n",
       "       'San Marino Red', 'Mandarin Gold Metallic',\n",
       "       'Alabaster Silver Metallic', 'Body In Prime', 'Crimson Pearl',\n",
       "       'Maroon', 'Basque Red Pearl II', 'Quartz White Pearl',\n",
       "       'Galactic Gray', 'Chalk White', 'Phantom Black', 'Symphony Silver',\n",
       "       'Molten Silver', 'Lakeside Blue', 'White Pearl', 'Machine Gray',\n",
       "       'Ceramic White', 'Electric Blue', 'Symphony Air Silver',\n",
       "       'Thunder Gray', 'Black Noir Pearl', 'Scarlet Red Pearl',\n",
       "       'Ultra Black Pearl', 'Scarlet Red', 'Mineral Beige',\n",
       "       'Caribbean Blue', 'Nouveau Blue', 'Frost White Pearl',\n",
       "       'Winter White', 'Platinum Graphite', 'Dazzling White',\n",
       "       'Monaco White', 'Twilight Black', 'Coliseum Gray', 'Ash Black',\n",
       "       'Mojave Sand', 'Regal Red Pearl', 'Sedona Sunset',\n",
       "       'Sparkling Ruby', 'Chai Bronze', 'Harbor Gray Metallic',\n",
       "       'BRIGHT SILVER METALLIC', 'Sparkling Silver', 'Phantom Gray',\n",
       "       'Silky Silver', 'Gravity Grey', 'Titanium Silver', 'Aurora Black',\n",
       "       'Snow White Pearl', 'Titanium Gray', 'Clear White', 'Ebony Black',\n",
       "       'Venetian Red', 'HiChroma Red', 'White w/Red Roof', 'Horizon Blue',\n",
       "       'Mineral Silver', 'Black Cherry', 'Hyper Red', 'Pacific Blue',\n",
       "       'Sangria', 'Remington Red', 'Blaze Blue', 'Bright Silver',\n",
       "       'Midnight Brown', 'Dark Cherry Pearl Metallic', 'Burnished Copper',\n",
       "       'Deep Sea Blue', 'Garnet Red', 'Aurora Black Pearl',\n",
       "       'Labrador Black Metallic', 'Red Diamond', 'Alloy Silver Metallic',\n",
       "       'Brilliant Silver Metallic', 'Glacier White', 'Super Black',\n",
       "       'Gun Metallic', 'Magnetic Black Pearl', 'Storm Blue Metallic',\n",
       "       'Super Silver QuadCoat', 'Fresh Powder', 'Deep Blue Pearl',\n",
       "       'Cayenne Red Metallic', 'Pearl White Tricoat',\n",
       "       'Midnight Pine Metallic', 'Pearl White', 'Magnetic Black',\n",
       "       'Red Alert', 'Brilliant Silver', 'Caspian Blue', 'Scarlet Ember',\n",
       "       'Carnelian Red', 'Aspen White', 'Cosmic Blue', 'Aspen White Pearl',\n",
       "       'Monarch Orange', 'Palatial Ruby', 'Magnetic Black Metallic',\n",
       "       'Metallic Blue', 'Amethyst Gray', 'Midnight Jade',\n",
       "       'Sapphire Black', 'Dark Slate Metallic', 'Cayenne Red',\n",
       "       'Super White', 'Falcon Gray Metallic', 'Celestial Silver Metallic',\n",
       "       'Barcelona Red Metallic', 'Midnight Black Metallic',\n",
       "       'Magnetic Gray Metallic'], dtype=object)"
      ]
     },
     "execution_count": 44,
     "metadata": {},
     "output_type": "execute_result"
    }
   ],
   "source": [
    "df.color.unique()"
   ]
  },
  {
   "cell_type": "code",
   "execution_count": 45,
   "id": "ed14d828",
   "metadata": {},
   "outputs": [],
   "source": [
    "basic_colors = ['white', 'black', 'grey', 'metallic', 'red', 'blue', 'brown', 'green']"
   ]
  },
  {
   "cell_type": "code",
   "execution_count": 46,
   "id": "1e44fa2a",
   "metadata": {},
   "outputs": [],
   "source": [
    "def color_transform(x):\n",
    "    \n",
    "    not_found = 0\n",
    "    for i in basic_colors:\n",
    "        if i in x.lower():\n",
    "            not_found = 1\n",
    "            return i\n",
    "    if not_found == 0:\n",
    "        return x.lower()"
   ]
  },
  {
   "cell_type": "code",
   "execution_count": 47,
   "id": "f397c27b",
   "metadata": {},
   "outputs": [],
   "source": [
    "df.color=df.color.apply(lambda x:color_transform(x))"
   ]
  },
  {
   "cell_type": "code",
   "execution_count": 48,
   "id": "36c2141d",
   "metadata": {},
   "outputs": [
    {
     "data": {
      "text/plain": [
       "array(['white', 'black', 'blue', 'gray', 'not given', 'metallic',\n",
       "       'dark gray', 'silver', 'red', 'iridescent pearl tricoat',\n",
       "       'bright yellow', 'br', 'beige', 'grey', 'ivory tri-coat pearl',\n",
       "       'burgundy', 'billet clearcoat', 'blu by you pearlcoat',\n",
       "       'in-violet clearcoat', 'granite pearlcoat',\n",
       "       'yellow jacket clearcoat', 'yellow', 'orange', 'green', 'purple',\n",
       "       '10045', 'gold', 'brown', 'burgundy night pearl',\n",
       "       'champagne frost pearl', 'deep ocean pearl', 'body in prime',\n",
       "       'crimson pearl', 'maroon', 'galactic gray', 'symphony silver',\n",
       "       'molten silver', 'machine gray', 'symphony air silver',\n",
       "       'thunder gray', 'mineral beige', 'platinum graphite',\n",
       "       'coliseum gray', 'mojave sand', 'sedona sunset', 'sparkling ruby',\n",
       "       'chai bronze', 'sparkling silver', 'phantom gray', 'silky silver',\n",
       "       'titanium silver', 'titanium gray', 'mineral silver', 'sangria',\n",
       "       'bright silver', 'burnished copper', 'super silver quadcoat',\n",
       "       'fresh powder', 'brilliant silver', 'scarlet ember',\n",
       "       'monarch orange', 'palatial ruby', 'amethyst gray',\n",
       "       'midnight jade'], dtype=object)"
      ]
     },
     "execution_count": 48,
     "metadata": {},
     "output_type": "execute_result"
    }
   ],
   "source": [
    "df.color.unique()"
   ]
  },
  {
   "cell_type": "code",
   "execution_count": 49,
   "id": "15a9424c",
   "metadata": {},
   "outputs": [
    {
     "data": {
      "text/plain": [
       "64"
      ]
     },
     "execution_count": 49,
     "metadata": {},
     "output_type": "execute_result"
    }
   ],
   "source": [
    "df.color.nunique()"
   ]
  },
  {
   "cell_type": "code",
   "execution_count": 50,
   "id": "4f8b20aa",
   "metadata": {},
   "outputs": [],
   "source": [
    "df['color'] = df['color'].replace('grey', 'metallic')"
   ]
  },
  {
   "cell_type": "code",
   "execution_count": 51,
   "id": "a635ff56",
   "metadata": {},
   "outputs": [
    {
     "data": {
      "text/plain": [
       "<AxesSubplot:>"
      ]
     },
     "execution_count": 51,
     "metadata": {},
     "output_type": "execute_result"
    },
    {
     "data": {
      "image/png": "[encoded data removed]",
      "text/plain": [
       "<Figure size 432x288 with 1 Axes>"
      ]
     },
     "metadata": {
      "needs_background": "light"
     },
     "output_type": "display_data"
    }
   ],
   "source": [
    "df['color'].value_counts().sort_values(ascending = False)[:10].plot(kind = 'barh')"
   ]
  },
  {
   "cell_type": "code",
   "execution_count": 52,
   "id": "f3d8779d",
   "metadata": {},
   "outputs": [],
   "source": [
    "color_dict = dict(df['color'].value_counts().sort_values(ascending = False)[:14])"
   ]
  },
  {
   "cell_type": "code",
   "execution_count": 53,
   "id": "ff237162",
   "metadata": {},
   "outputs": [],
   "source": [
    "def color_other(x):\n",
    "    if x not in color_dict.keys():\n",
    "        return 'Other'\n",
    "    else:\n",
    "        return x"
   ]
  },
  {
   "cell_type": "code",
   "execution_count": 54,
   "id": "86aa2c7d",
   "metadata": {},
   "outputs": [],
   "source": [
    "df['color']=df['color'].apply(lambda x:color_other(x))"
   ]
  },
  {
   "cell_type": "code",
   "execution_count": 55,
   "id": "0e1dc961",
   "metadata": {},
   "outputs": [
    {
     "data": {
      "text/plain": [
       "array(['white', 'black', 'blue', 'gray', 'not given', 'metallic', 'Other',\n",
       "       'silver', 'red', 'beige', 'burgundy', 'orange', 'green', 'brown',\n",
       "       'brilliant silver'], dtype=object)"
      ]
     },
     "execution_count": 55,
     "metadata": {},
     "output_type": "execute_result"
    }
   ],
   "source": [
    "df.color.unique()"
   ]
  },
  {
   "cell_type": "code",
   "execution_count": 56,
   "id": "23c9cb25",
   "metadata": {},
   "outputs": [],
   "source": [
    "df['color'] = df['color'].replace('not given', 'n/a')"
   ]
  },
  {
   "cell_type": "code",
   "execution_count": 57,
   "id": "b535963b",
   "metadata": {},
   "outputs": [
    {
     "data": {
      "text/plain": [
       "array(['white', 'black', 'blue', 'gray', 'n/a', 'metallic', 'Other',\n",
       "       'silver', 'red', 'beige', 'burgundy', 'orange', 'green', 'brown',\n",
       "       'brilliant silver'], dtype=object)"
      ]
     },
     "execution_count": 57,
     "metadata": {},
     "output_type": "execute_result"
    }
   ],
   "source": [
    "df.color.unique()"
   ]
  },
  {
   "cell_type": "code",
   "execution_count": 58,
   "id": "80d734de",
   "metadata": {},
   "outputs": [],
   "source": [
    "df.drop('image', axis = 1, inplace = True)"
   ]
  },
  {
   "cell_type": "code",
   "execution_count": 59,
   "id": "b58a5807",
   "metadata": {},
   "outputs": [],
   "source": [
    "import datetime\n",
    "current_year = datetime.datetime.now().year"
   ]
  },
  {
   "cell_type": "code",
   "execution_count": 60,
   "id": "9740067f",
   "metadata": {},
   "outputs": [],
   "source": [
    "df['year']=current_year-df['year']"
   ]
  },
  {
   "cell_type": "code",
   "execution_count": 61,
   "id": "897029fe",
   "metadata": {},
   "outputs": [],
   "source": [
    "company_transformer = {}\n",
    "\n",
    "unique_comps = list(df['company'].unique())\n",
    "\n",
    "for i in unique_comps:\n",
    "    com_unique = list(df['company'].unique())\n",
    "    for y in com_unique:\n",
    "        if y != i:\n",
    "            ind = com_unique.index(y)\n",
    "            com_unique[ind] = 0\n",
    "    main_ind = com_unique.index(i)\n",
    "    com_unique[main_ind] = 1\n",
    "    company_transformer[i] = com_unique"
   ]
  },
  {
   "cell_type": "code",
   "execution_count": 62,
   "id": "429e1086",
   "metadata": {},
   "outputs": [],
   "source": [
    "df = pd.concat([df.drop('company', 1), pd.get_dummies(df['company'], drop_first = False)], axis = 1)"
   ]
  },
  {
   "cell_type": "code",
   "execution_count": 63,
   "id": "c96817cd",
   "metadata": {},
   "outputs": [],
   "source": [
    "with open('PklFiles/companies.pkl', 'wb') as f:\n",
    "    pkl.dump(company_transformer, f)"
   ]
  },
  {
   "cell_type": "code",
   "execution_count": 74,
   "id": "e957d945",
   "metadata": {},
   "outputs": [],
   "source": [
    "df = pd.concat([df.drop('color', 1), pd.get_dummies(df['color'], drop_first = False)], axis = 1)\n",
    "df_models = list(df['model'].unique())\n",
    "\n",
    "def transform_models(x):\n",
    "    return df_models.index(x)\n",
    "\n",
    "df['model'] = df['model'].apply(lambda x: transform_models(x))"
   ]
  },
  {
   "cell_type": "code",
   "execution_count": 81,
   "id": "68e06747",
   "metadata": {},
   "outputs": [],
   "source": [
    "with open('./PklFiles/model_names.pkl', 'wb') as f:\n",
    "    pkl.dump(df_models, f)"
   ]
  },
  {
   "cell_type": "code",
   "execution_count": 83,
   "id": "b75c48c9",
   "metadata": {},
   "outputs": [],
   "source": [
    "df = df.sample(frac=1).reset_index(drop=True)"
   ]
  },
  {
   "cell_type": "code",
   "execution_count": 84,
   "id": "499db9fc",
   "metadata": {},
   "outputs": [],
   "source": [
    "from sklearn.model_selection import train_test_split\n",
    "\n",
    "X_train, X_test, y_train, y_test = train_test_split(df.drop('log_cost', 1), df['log_cost'],\n",
    "                                                    random_state = 42, test_size = 0.2)"
   ]
  },
  {
   "cell_type": "code",
   "execution_count": 85,
   "id": "cbbac3ec",
   "metadata": {},
   "outputs": [
    {
     "name": "stdout",
     "output_type": "stream",
     "text": [
      "^C\n"
     ]
    }
   ],
   "source": [
    "!pip install xgboost"
   ]
  },
  {
   "cell_type": "code",
   "execution_count": 79,
   "id": "01ed205f",
   "metadata": {},
   "outputs": [],
   "source": [
    "from sklearn.ensemble import RandomForestRegressor\n",
    "from sklearn.ensemble import GradientBoostingRegressor\n",
    "from sklearn.ensemble import StackingRegressor\n",
    "from sklearn.pipeline import make_pipeline\n",
    "from sklearn.linear_model import Lasso, ElasticNet, BayesianRidge, Ridge, LassoLarsIC\n",
    "from sklearn.preprocessing import RobustScaler\n",
    "from sklearn.kernel_ridge import KernelRidge\n",
    "from xgboost import XGBRegressor\n",
    "from sklearn.metrics import mean_squared_error as mse\n",
    "from sklearn.model_selection import RandomizedSearchCV as RCV"
   ]
  },
  {
   "cell_type": "code",
   "execution_count": 80,
   "id": "0ab30a63",
   "metadata": {},
   "outputs": [
    {
     "name": "stdout",
     "output_type": "stream",
     "text": [
      "Requirement already satisfied: xgboost in c:\\users\\hardik\\anaconda3\\lib\\site-packages (1.4.2)\n",
      "Requirement already satisfied: numpy in c:\\users\\hardik\\anaconda3\\lib\\site-packages (from xgboost) (1.20.1)\n",
      "Requirement already satisfied: scipy in c:\\users\\hardik\\anaconda3\\lib\\site-packages (from xgboost) (1.6.2)\n"
     ]
    }
   ],
   "source": [
    "params = {'n_estimators': np.arange(100,500, 100),\n",
    "          'max_depth': [2,3,5,7],\n",
    "          'max_features': [0.5, 1]}\n",
    "\n",
    "model_rf = RCV(RandomForestRegressor(oob_score = True), params).fit(X_train, y_train)"
   ]
  },
  {
   "cell_type": "code",
   "execution_count": 86,
   "id": "2d7a3631",
   "metadata": {},
   "outputs": [],
   "source": [
    "model_rf = model_rf.best_estimator_"
   ]
  },
  {
   "cell_type": "code",
   "execution_count": 87,
   "id": "fd7b7be5",
   "metadata": {},
   "outputs": [
    {
     "name": "stdout",
     "output_type": "stream",
     "text": [
      "0.21363851148470844\n"
     ]
    },
    {
     "data": {
      "text/plain": [
       "0.7711326881830507"
      ]
     },
     "execution_count": 87,
     "metadata": {},
     "output_type": "execute_result"
    }
   ],
   "source": [
    "print(np.sqrt(mse(y_test, model_rf.predict(X_test))))\n",
    "model_rf.score(X_test, y_test)"
   ]
  },
  {
   "cell_type": "code",
   "execution_count": 88,
   "id": "2006798a",
   "metadata": {},
   "outputs": [],
   "source": [
    "params = {'n_estimators': np.arange(100,500, 100),\n",
    "          'learning_rate': np.arange(0.01, 0.31, 0.05),\n",
    "          'max_features': [0.5, 1],\n",
    "          'max_depth': [3,5,7],\n",
    "          'alpha': [0.5, 0.9, 1]}"
   ]
  },
  {
   "cell_type": "code",
   "execution_count": 89,
   "id": "74747d4f",
   "metadata": {},
   "outputs": [],
   "source": [
    "model_gb = RCV(GradientBoostingRegressor(), params).fit(X_train, y_train)\n",
    "\n",
    "model_gb = model_gb.best_estimator_"
   ]
  },
  {
   "cell_type": "code",
   "execution_count": 90,
   "id": "114196df",
   "metadata": {},
   "outputs": [
    {
     "name": "stdout",
     "output_type": "stream",
     "text": [
      "0.20847801389589432\n"
     ]
    },
    {
     "data": {
      "text/plain": [
       "0.7820558562509289"
      ]
     },
     "execution_count": 90,
     "metadata": {},
     "output_type": "execute_result"
    }
   ],
   "source": [
    "print(np.sqrt(mse(y_test, model_gb.predict(X_test))))\n",
    "model_gb.score(X_test, y_test)"
   ]
  },
  {
   "cell_type": "code",
   "execution_count": 91,
   "id": "7cbcd5df",
   "metadata": {},
   "outputs": [],
   "source": [
    "params = {'n_estimators': np.arange(100,500, 100),\n",
    "          'learning_rate': np.arange(0.01, 0.31, 0.05),\n",
    "          'max_depth': [3,5,7],\n",
    "          'gamma': [0, 0.5, 1]}\n",
    "\n",
    "model_xg = RCV(XGBRegressor(), params).fit(X_train, y_train)"
   ]
  },
  {
   "cell_type": "code",
   "execution_count": 92,
   "id": "d24cb2c8",
   "metadata": {},
   "outputs": [
    {
     "name": "stdout",
     "output_type": "stream",
     "text": [
      "0.17127143903732556\n"
     ]
    },
    {
     "data": {
      "text/plain": [
       "0.8529061296659006"
      ]
     },
     "execution_count": 92,
     "metadata": {},
     "output_type": "execute_result"
    }
   ],
   "source": [
    "print(np.sqrt(mse(y_test, model_xg.predict(X_test))))\n",
    "model_xg.score(X_test, y_test)"
   ]
  },
  {
   "cell_type": "code",
   "execution_count": 93,
   "id": "44808f2b",
   "metadata": {},
   "outputs": [
    {
     "name": "stdout",
     "output_type": "stream",
     "text": [
      "0.2561522554495985\n"
     ]
    },
    {
     "data": {
      "text/plain": [
       "0.6709809452629223"
      ]
     },
     "execution_count": 93,
     "metadata": {},
     "output_type": "execute_result"
    }
   ],
   "source": [
    "model_lr = make_pipeline(RobustScaler(),\n",
    "                         Lasso(alpha = 0.0001) ).fit(X_train, y_train)\n",
    "print(np.sqrt(mse(y_test, model_lr.predict(X_test))))\n",
    "model_lr.score(X_test, y_test)"
   ]
  },
  {
   "cell_type": "code",
   "execution_count": 94,
   "id": "8df63300",
   "metadata": {},
   "outputs": [
    {
     "name": "stdout",
     "output_type": "stream",
     "text": [
      "0.2567657521204395\n"
     ]
    },
    {
     "data": {
      "text/plain": [
       "0.6694030257791469"
      ]
     },
     "execution_count": 94,
     "metadata": {},
     "output_type": "execute_result"
    }
   ],
   "source": [
    "model_en = ElasticNet(alpha = 0.001, l1_ratio = 0.5).fit(X_train, y_train)\n",
    "print(np.sqrt(mse(y_test, model_en.predict(X_test))))\n",
    "model_en.score(X_test, y_test)"
   ]
  },
  {
   "cell_type": "code",
   "execution_count": 95,
   "id": "ba0b8a13",
   "metadata": {},
   "outputs": [
    {
     "name": "stdout",
     "output_type": "stream",
     "text": [
      "0.17281964338914033\n"
     ]
    },
    {
     "data": {
      "text/plain": [
       "0.8502348067905613"
      ]
     },
     "execution_count": 95,
     "metadata": {},
     "output_type": "execute_result"
    }
   ],
   "source": [
    "models_2 = [('gb', model_gb), \n",
    "            ('en', model_en), \n",
    "            ('xgb', model_xg)]\n",
    "\n",
    "\n",
    "model_stack_2 = StackingRegressor(models_2, Lasso(alpha = 0.001)).fit(X_train, y_train)\n",
    "print(np.sqrt(mse(y_test, model_stack_2.predict(X_test))))\n",
    "model_stack_2.score(X_test, y_test)"
   ]
  },
  {
   "cell_type": "code",
   "execution_count": 96,
   "id": "f1cc97b0",
   "metadata": {},
   "outputs": [],
   "source": [
    "with open('./PklFiles/model_xg.pkl','wb') as f:\n",
    "    pkl.dump(model_xg,f)"
   ]
  },
  {
   "cell_type": "code",
   "execution_count": 98,
   "id": "e3bc841e",
   "metadata": {},
   "outputs": [],
   "source": [
    "import streamlit as st\n",
    "import requests\n",
    "from PIL import Image\n",
    "from io import BytesIO"
   ]
  },
  {
   "cell_type": "code",
   "execution_count": 99,
   "id": "1aef79ee",
   "metadata": {},
   "outputs": [
    {
     "name": "stdout",
     "output_type": "stream",
     "text": [
      "Note: you may need to restart the kernel to use updated packages.\n"
     ]
    }
   ],
   "source": [
    "pip freeze > requirements.txt"
   ]
  },
  {
   "cell_type": "code",
   "execution_count": null,
   "id": "cad1d377",
   "metadata": {},
   "outputs": [],
   "source": []
  }
 ],
 "metadata": {
  "kernelspec": {
   "display_name": "Python 3",
   "language": "python",
   "name": "python3"
  },
  "language_info": {
   "codemirror_mode": {
    "name": "ipython",
    "version": 3
   },
   "file_extension": ".py",
   "mimetype": "text/x-python",
   "name": "python",
   "nbconvert_exporter": "python",
   "pygments_lexer": "ipython3",
   "version": "3.8.8"
  }
 },
 "nbformat": 4,
 "nbformat_minor": 5
}
